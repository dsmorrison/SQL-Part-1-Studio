{
    "metadata": {
        "kernelspec": {
            "name": "SQL",
            "display_name": "SQL",
            "language": "sql"
        },
        "language_info": {
            "name": "sql",
            "version": ""
        },
        "extensions": {
            "azuredatastudio": {
                "version": 1,
                "views": []
            }
        }
    },
    "nbformat_minor": 2,
    "nbformat": 4,
    "cells": [
        {
            "cell_type": "markdown",
            "source": [
                "# SQL Part 1 Studio\n",
                "\n",
                "### Let's practice your SQL quering skills!  For each question, work along in the notebook adding your query and answering the questions. \n",
                "\n",
                "### **DataSet**\n",
                "\n",
                "### <span style=\"font-size: 14px; font-family: -apple-system, BlinkMacSystemFont, sans-serif;\">We will be using the Goodbooks-10k dataset from the exercises in the prep work.&nbsp; Feel free to reference your notebook.</span>\n",
                "\n",
                "- The dataset can be found here: [goodbooks-10k](https://www.kaggle.com/zygmunt/goodbooks-10k)\n",
                "- You can access the **BooksDB** in the Launchcode server.\n",
                "\n",
                "### **Business Issue**\n",
                "\n",
                "You work for a small independant book store and you want to increase sales by running various promotions.  Start by becoming more familar with the BooksDB."
            ],
            "metadata": {
                "azdata_cell_guid": "b9034d8a-b631-48bf-a895-1012a6ffa784"
            }
        },
        {
            "cell_type": "markdown",
            "source": [
                "## Part 1. BooksDB Questions\n",
                "\n",
                "<span style=\"color: rgba(0, 0, 0, 0.87); font-family: -apple-system, system-ui, &quot;Segoe UI&quot;, Helvetica, Arial, sans-serif, &quot;Apple Color Emoji&quot;, &quot;Segoe UI Emoji&quot;, &quot;Segoe UI Symbol&quot;; background-color: rgb(255, 255, 255);\">Question 1:&nbsp; Write a query of the books table, returning the TOP 100 results and&nbsp; includes, book_id, authors, title, average_rating.&nbsp; Use an alias for at least one column and in descending order of rating.&nbsp; What is the number one book?</span>"
            ],
            "metadata": {
                "azdata_cell_guid": "6e55eb1c-4a14-4076-90d2-95ed17a6309f",
                "tags": [
                    "hide_input"
                ]
            },
            "attachments": {}
        },
        {
            "cell_type": "code",
            "source": [
                "-- return top 100 results\n",
                "SELECT\n",
                "    TOP 100 \n",
                "    book_id, authors, average_rating as \"rating\" , title\n",
                "FROM\n",
                "    BooksDB.dbo.books\n",
                "ORDER BY rating DESC \n",
                "\n",
                "\n",
                ""
            ],
            "metadata": {
                "azdata_cell_guid": "470b0ca4-9a32-4b46-a42e-bbb645101769",
                "tags": [],
                "language": "sql"
            },
            "outputs": [
                {
                    "output_type": "display_data",
                    "data": {
                        "text/html": "(100 rows affected)"
                    },
                    "metadata": {}
                },
                {
                    "output_type": "display_data",
                    "data": {
                        "text/html": "Total execution time: 00:00:00.122"
                    },
                    "metadata": {}
                },
                {
                    "output_type": "execute_result",
                    "metadata": {},
                    "execution_count": 22,
                    "data": {
                        "application/vnd.dataresource+json": {
                            "schema": {
                                "fields": [
                                    {
                                        "name": "book_id"
                                    },
                                    {
                                        "name": "authors"
                                    },
                                    {
                                        "name": "rating"
                                    },
                                    {
                                        "name": "title"
                                    }
                                ]
                            },
                            "data": [
                                {
                                    "0": "24812",
                                    "1": "Bill Watterson",
                                    "2": "4.82",
                                    "3": "The Complete Calvin and Hobbes"
                                },
                                {
                                    "0": "17332218",
                                    "1": "Brandon Sanderson",
                                    "2": "4.77",
                                    "3": "Words of Radiance (The Stormlight Archive, #2)"
                                },
                                {
                                    "0": "8",
                                    "1": "J.K. Rowling, Mary GrandPré",
                                    "2": "4.77",
                                    "3": "Harry Potter Boxed Set, Books 1-5 (Harry Potter, #1-5)"
                                },
                                {
                                    "0": "5031805",
                                    "1": "Anonymous, Lane T. Dennis, Wayne A. Grudem",
                                    "2": "4.76",
                                    "3": "ESV Study Bible"
                                },
                                {
                                    "0": "95602",
                                    "1": "Francine Rivers",
                                    "2": "4.76",
                                    "3": "Mark of the Lion Trilogy"
                                },
                                {
                                    "0": "24814",
                                    "1": "Bill Watterson",
                                    "2": "4.75",
                                    "3": "It's a Magical World: A Calvin and Hobbes Collection"
                                },
                                {
                                    "0": "862041",
                                    "1": "J.K. Rowling",
                                    "2": "4.74",
                                    "3": "Harry Potter Boxset (Harry Potter, #1-7)"
                                },
                                {
                                    "0": "70489",
                                    "1": "Bill Watterson",
                                    "2": "4.74",
                                    "3": "There's Treasure Everywhere: A Calvin and Hobbes Collection"
                                },
                                {
                                    "0": "10",
                                    "1": "J.K. Rowling",
                                    "2": "4.73",
                                    "3": "Harry Potter Collection (Harry Potter, #1-6)"
                                },
                                {
                                    "0": "59715",
                                    "1": "Bill Watterson",
                                    "2": "4.73",
                                    "3": "The Authoritative Calvin and Hobbes: A Calvin and Hobbes Treasury"
                                },
                                {
                                    "0": "24815",
                                    "1": "Bill Watterson",
                                    "2": "4.73",
                                    "3": "The Indispensable Calvin and Hobbes"
                                },
                                {
                                    "0": "17927395",
                                    "1": "Sarah J. Maas",
                                    "2": "4.72",
                                    "3": "A Court of Mist and Fury (A Court of Thorns and Roses, #2)"
                                },
                                {
                                    "0": "70487",
                                    "1": "Bill Watterson",
                                    "2": "4.72",
                                    "3": "Attack of the Deranged Mutant Killer Monster Snow Goons"
                                },
                                {
                                    "0": "24816",
                                    "1": "Bill Watterson",
                                    "2": "4.71",
                                    "3": "Homicidal Psycho Jungle Cat: A Calvin and Hobbes Collection"
                                },
                                {
                                    "0": "121792",
                                    "1": "Bill Watterson",
                                    "2": "4.71",
                                    "3": "The Revenge of the Baby-Sat"
                                },
                                {
                                    "0": "2350129",
                                    "1": "The Church of Jesus Christ of Latter-day Saints",
                                    "2": "4.71",
                                    "3": "Preach My Gospel: A Guide To Missionary Service"
                                },
                                {
                                    "0": "24818",
                                    "1": "Bill Watterson",
                                    "2": "4.68",
                                    "3": "The Days Are Just Packed: A Calvin and Hobbes Collection"
                                },
                                {
                                    "0": "265205",
                                    "1": "Anonymous, Ronald A. Beers, Ronald A. Beers",
                                    "2": "4.67",
                                    "3": "Life Application Study Bible: NIV"
                                },
                                {
                                    "0": "9329354",
                                    "1": "Brandon Sanderson",
                                    "2": "4.67",
                                    "3": "The Way of Kings, Part 1 (The Stormlight Archive #1.1)"
                                },
                                {
                                    "0": "99298",
                                    "1": "J.K. Rowling, Mary GrandPré",
                                    "2": "4.66",
                                    "3": "The Harry Potter Collection 1-4 (Harry Potter, #1-4)"
                                },
                                {
                                    "0": "5883777",
                                    "1": "Anonymous",
                                    "2": "4.66",
                                    "3": "The Holy Bible: English Standard Version"
                                },
                                {
                                    "0": "24494",
                                    "1": "Bill Watterson",
                                    "2": "4.66",
                                    "3": "The Calvin and Hobbes Lazy Sunday Book"
                                },
                                {
                                    "0": "43070",
                                    "1": "Bill Watterson",
                                    "2": "4.65",
                                    "3": "The Essential Calvin and Hobbes: A Calvin and Hobbes Treasury"
                                },
                                {
                                    "0": "18337259",
                                    "1": "Daniel Abraham, George R.R. Martin, Tommy Patterson",
                                    "2": "4.65",
                                    "3": "A Game of Thrones: Comic Book, Issue 1"
                                },
                                {
                                    "0": "23753",
                                    "1": "Neil Gaiman, Mike Dringenberg, Chris Bachalo, Michael Zulli, Kelly Jones, Charles Vess, Colleen Doran, Malcolm Jones III, Steve Parkhouse, Daniel Vozzo, Lee Loughridge, Steve Oliff, Todd Klein, Dave McKean, Sam Kieth",
                                    "2": "4.65",
                                    "3": "The Absolute Sandman, Volume One"
                                },
                                {
                                    "0": "7235533",
                                    "1": "Brandon Sanderson",
                                    "2": "4.64",
                                    "3": "The Way of Kings (The Stormlight Archive, #1)"
                                },
                                {
                                    "0": "24813",
                                    "1": "Bill Watterson",
                                    "2": "4.63",
                                    "3": "The Calvin and Hobbes Tenth Anniversary Book"
                                },
                                {
                                    "0": "9814682",
                                    "1": "George R.R. Martin",
                                    "2": "4.63",
                                    "3": "A Song of Ice and Fire (A Song of Ice and Fire, #1-4)"
                                },
                                {
                                    "0": "12177850",
                                    "1": "George R.R. Martin",
                                    "2": "4.63",
                                    "3": "A Song of Ice and Fire (A Song of Ice and Fire, #1-5)"
                                },
                                {
                                    "0": "481749",
                                    "1": "James E. Talmage",
                                    "2": "4.63",
                                    "3": "Jesus the Christ"
                                },
                                {
                                    "0": "46292",
                                    "1": "Hafez",
                                    "2": "4.63",
                                    "3": "The Divan"
                                },
                                {
                                    "0": "6801614",
                                    "1": "Eiichirō Oda",
                                    "2": "4.63",
                                    "3": "One Piece, Volume 38: Rocketman!! (One Piece, #38)"
                                },
                                {
                                    "0": "22299763",
                                    "1": "Leigh Bardugo",
                                    "2": "4.62",
                                    "3": "Crooked Kingdom (Six of Crows, #2)"
                                },
                                {
                                    "0": "32075671",
                                    "1": "Angie Thomas",
                                    "2": "4.62",
                                    "3": "The Hate U Give"
                                },
                                {
                                    "0": "136251",
                                    "1": "J.K. Rowling, Mary GrandPré",
                                    "2": "4.61",
                                    "3": "Harry Potter and the Deathly Hallows (Harry Potter, #7)"
                                },
                                {
                                    "0": "77727",
                                    "1": "Bill Watterson, G.B. Trudeau",
                                    "2": "4.61",
                                    "3": "Calvin and Hobbes"
                                },
                                {
                                    "0": "280111",
                                    "1": "Anonymous",
                                    "2": "4.61",
                                    "3": "Holy Bible: New International Version"
                                },
                                {
                                    "0": "2223324",
                                    "1": "John   Williams",
                                    "2": "4.61",
                                    "3": "Harry Potter and the Chamber of Secrets: Sheet Music for Flute with C.D"
                                },
                                {
                                    "0": "6339989",
                                    "1": "Richelle Mead",
                                    "2": "4.61",
                                    "3": "Vampire Academy Collection (Vampire Academy, #1-3)"
                                },
                                {
                                    "0": "596259",
                                    "1": "Gordon B. Hinckley",
                                    "2": "4.61",
                                    "3": "Standing for Something: 10 Neglected Virtues That Will Heal Our Hearts and Homes"
                                },
                                {
                                    "0": "47697",
                                    "1": "Alisa Kwitney, Neil Gaiman",
                                    "2": "4.61",
                                    "3": "The Sandman: King of Dreams"
                                },
                                {
                                    "0": "18006496",
                                    "1": "Sarah J. Maas",
                                    "2": "4.6",
                                    "3": "Queen of Shadows (Throne of Glass, #4)"
                                },
                                {
                                    "0": "95617",
                                    "1": "Francine Rivers, Richard Ferrone",
                                    "2": "4.6",
                                    "3": "A Voice in the Wind (Mark of the Lion, #1)"
                                },
                                {
                                    "0": "46601",
                                    "1": "Francine Rivers",
                                    "2": "4.6",
                                    "3": "An Echo in the Darkness (Mark of the Lion, #2)"
                                },
                                {
                                    "0": "7025086",
                                    "1": "Christopher Yost, Pasqual Ferry, Orson Scott Card",
                                    "2": "4.6",
                                    "3": "Ender's Game, Volume 2: Command School"
                                },
                                {
                                    "0": "18335634",
                                    "1": "Cassandra Clare",
                                    "2": "4.59",
                                    "3": "Clockwork Princess (The Infernal Devices, #3)"
                                },
                                {
                                    "0": "30",
                                    "1": "J.R.R. Tolkien",
                                    "2": "4.59",
                                    "3": "J.R.R. Tolkien 4-Book Boxed Set: The Hobbit and The Lord of the Rings"
                                },
                                {
                                    "0": "2299110",
                                    "1": "Sherrilyn Kenyon",
                                    "2": "4.59",
                                    "3": "Acheron (Dark-Hunter #14)"
                                },
                                {
                                    "0": "119",
                                    "1": "Gary Russell",
                                    "2": "4.59",
                                    "3": "The Lord of the Rings: The Art of The Fellowship of the Ring"
                                },
                                {
                                    "0": "71252",
                                    "1": "Neil Gaiman, Marc Hempel, Richard Case, D'Israeli, Teddy Kristiansen, Glyn Dillon, Charles Vess, Dean Ormston, Kevin Nowlan, Todd Klein, Frank McConnell",
                                    "2": "4.59",
                                    "3": "The Kindly Ones (The Sandman #9)"
                                },
                                {
                                    "0": "349254",
                                    "1": "Jude Fisher",
                                    "2": "4.59",
                                    "3": "The Lord of the Rings: The Return of the King: Visual Companion"
                                },
                                {
                                    "0": "9832370",
                                    "1": "BookRags",
                                    "2": "4.59",
                                    "3": "BookRags Summary:  A Storm of Swords"
                                },
                                {
                                    "0": "11106458",
                                    "1": "Cassandra Clare",
                                    "2": "4.59",
                                    "3": "The Mortal Instruments (The Mortal Instruments #1-4)"
                                },
                                {
                                    "0": "14367051",
                                    "1": "Cassandra Clare",
                                    "2": "4.59",
                                    "3": "City of Bones / City of Ashes / City of Glass / City of Fallen Angels / City of Lost Souls (The Mortal Instruments, #1-5)"
                                },
                                {
                                    "0": "28260587",
                                    "1": "Sarah J. Maas",
                                    "2": "4.58",
                                    "3": "Empire of Storms (Throne of Glass, #5)"
                                },
                                {
                                    "0": "3165162",
                                    "1": "Rick Riordan",
                                    "2": "4.58",
                                    "3": "Percy Jackson and the Olympians (Percy Jackson and the Olympians, #1-3)"
                                },
                                {
                                    "0": "20342617",
                                    "1": "Bryan Stevenson",
                                    "2": "4.58",
                                    "3": "Just Mercy: A Story of Justice and Redemption"
                                },
                                {
                                    "0": "17961",
                                    "1": "Jorge Luis Borges, Andrew Hurley",
                                    "2": "4.58",
                                    "3": "Collected Fictions"
                                },
                                {
                                    "0": "4808763",
                                    "1": "Isaac Asimov, Bob E. Flick, Jim Gallant",
                                    "2": "4.58",
                                    "3": "The Last Question"
                                },
                                {
                                    "0": "15767586",
                                    "1": "Sherrilyn Kenyon",
                                    "2": "4.58",
                                    "3": "Styxx (Dark-Hunter, #22)"
                                },
                                {
                                    "0": "892295",
                                    "1": "Arthur Conan Doyle, William S. Baring-Gould",
                                    "2": "4.58",
                                    "3": "The Annotated Sherlock Holmes: The Four Novels and the Fifty-Six Short Stories Complete (2 Volume Set)"
                                },
                                {
                                    "0": "1215032",
                                    "1": "Patrick Rothfuss",
                                    "2": "4.57",
                                    "3": "The Wise Man's Fear (The Kingkiller Chronicle, #2)"
                                },
                                {
                                    "0": "6485421",
                                    "1": "Cassandra Clare",
                                    "2": "4.57",
                                    "3": "The Mortal Instruments Boxed Set: City of Bones; City of Ashes; City of Glass (The Mortal Instruments, #1-3)"
                                },
                                {
                                    "0": "17131869",
                                    "1": "Brian K. Vaughan, Fiona Staples",
                                    "2": "4.57",
                                    "3": "Saga, Vol. 2 (Saga, #2)"
                                },
                                {
                                    "0": "8718952",
                                    "1": "Richelle Mead",
                                    "2": "4.57",
                                    "3": "Vampire Academy Box Set (Vampire Academy, #1-4)"
                                },
                                {
                                    "0": "4634266",
                                    "1": "Masashi Kishimoto",
                                    "2": "4.57",
                                    "3": "NARUTO -ナルト- 巻ノ四十三"
                                },
                                {
                                    "0": "6443349",
                                    "1": "Rick Riordan, Tk",
                                    "2": "4.57",
                                    "3": "Percy Jackson and the Olympians Boxed Set (Percy Jackson and the Olympians, #1-5)"
                                },
                                {
                                    "0": "545425",
                                    "1": "Safiy al-Rahman al-Mubarakfuri",
                                    "2": "4.57",
                                    "3": "الرحيق المختوم"
                                },
                                {
                                    "0": "17333174",
                                    "1": "Ilona Andrews",
                                    "2": "4.57",
                                    "3": "Magic Binds (Kate Daniels, #9)"
                                },
                                {
                                    "0": "147915",
                                    "1": "George R.R. Martin",
                                    "2": "4.56",
                                    "3": "A Storm of Swords: Blood and Gold (A Song of Ice and Fire, #3: Part 2 of 2)"
                                },
                                {
                                    "0": "19358975",
                                    "1": "Brian K. Vaughan, Fiona Staples",
                                    "2": "4.56",
                                    "3": "Saga, Vol. 3 (Saga, #3)"
                                },
                                {
                                    "0": "10785687",
                                    "1": "Bob McCabe",
                                    "2": "4.56",
                                    "3": "Harry Potter Page to Screen: The Complete Filmmaking Journey"
                                },
                                {
                                    "0": "17880714",
                                    "1": "K. Bromberg",
                                    "2": "4.56",
                                    "3": "Crashed (Driven, #3)"
                                },
                                {
                                    "0": "1317181",
                                    "1": "J.K. Rowling",
                                    "2": "4.56",
                                    "3": "Harry Potter and the Order of the Phoenix (Harry Potter, #5, Part 1)"
                                },
                                {
                                    "0": "15743078",
                                    "1": "Veronica Roth",
                                    "2": "4.56",
                                    "3": "The Divergent Series 2-Book Collection (Divergent, #1-2)"
                                },
                                {
                                    "0": "29236299",
                                    "1": "Amie Kaufman, Jay Kristoff, Marie Lu",
                                    "2": "4.56",
                                    "3": "Gemina (The Illuminae Files, #2)"
                                },
                                {
                                    "0": "186074",
                                    "1": "Patrick Rothfuss",
                                    "2": "4.55",
                                    "3": "The Name of the Wind (The Kingkiller Chronicle, #1)"
                                },
                                {
                                    "0": "19486421",
                                    "1": "Jim Butcher",
                                    "2": "4.55",
                                    "3": "Skin Game (The Dresden Files, #15)"
                                },
                                {
                                    "0": "6604209",
                                    "1": "Brandon Sanderson",
                                    "2": "4.55",
                                    "3": "Mistborn Trilogy Boxed Set (Mistborn, #1-3)"
                                },
                                {
                                    "0": "25105",
                                    "1": "Neil Gaiman, Jill Thompson, Vince Locke, Peter Straub",
                                    "2": "4.55",
                                    "3": "Brief Lives (The Sandman #7)"
                                },
                                {
                                    "0": "8346300",
                                    "1": "Andrew Williamson, Andrew Williamson",
                                    "2": "4.55",
                                    "3": "Harry Potter: A Pop-Up Book: Based on the Film Phenomenon"
                                },
                                {
                                    "0": "14905",
                                    "1": "Jane Austen",
                                    "2": "4.55",
                                    "3": "The Complete Novels"
                                },
                                {
                                    "0": "13184992",
                                    "1": "Kristen Ashley",
                                    "2": "4.55",
                                    "3": "Rock Chick Regret (Rock Chick, #7)"
                                },
                                {
                                    "0": "71823",
                                    "1": "Stephen King",
                                    "2": "4.55",
                                    "3": "The Green Mile, Part 6: Coffey on the Mile"
                                },
                                {
                                    "0": "1",
                                    "1": "J.K. Rowling, Mary GrandPré",
                                    "2": "4.54",
                                    "3": "Harry Potter and the Half-Blood Prince (Harry Potter, #6)"
                                },
                                {
                                    "0": "62291",
                                    "1": "George R.R. Martin",
                                    "2": "4.54",
                                    "3": "A Storm of Swords (A Song of Ice and Fire, #3)"
                                },
                                {
                                    "0": "21853621",
                                    "1": "Kristin Hannah",
                                    "2": "4.54",
                                    "3": "The Nightingale"
                                },
                                {
                                    "0": "12127810",
                                    "1": "Rick Riordan",
                                    "2": "4.54",
                                    "3": "The House of Hades (The Heroes of Olympus, #4)"
                                },
                                {
                                    "0": "6585201",
                                    "1": "Jim Butcher",
                                    "2": "4.54",
                                    "3": "Changes (The Dresden Files, #12)"
                                },
                                {
                                    "0": "381421",
                                    "1": "Sarah  Young",
                                    "2": "4.54",
                                    "3": "Jesus Calling: Enjoying Peace in His Presence"
                                },
                                {
                                    "0": "25101",
                                    "1": "Neil Gaiman, Matt Wagner, George Pratt, Dick Giordano, Kelley Jones, P. Craig Russell, Mike Dringenberg, Malcolm Jones III, Todd Klein, Harlan Ellison",
                                    "2": "4.54",
                                    "3": "Season of Mists (The Sandman #4)"
                                },
                                {
                                    "0": "89959",
                                    "1": "Founding Fathers",
                                    "2": "4.54",
                                    "3": "The Constitution of the United States of America"
                                },
                                {
                                    "0": "23766634",
                                    "1": "Sarah J. Maas",
                                    "2": "4.54",
                                    "3": "A Court of Wings and Ruin (A Court of Thorns and Roses, #3)"
                                },
                                {
                                    "0": "20706320",
                                    "1": "Chris Colfer, Brandon Dorman",
                                    "2": "4.54",
                                    "3": "A Grimm Warning (The Land of Stories, #3)"
                                },
                                {
                                    "0": "8163161",
                                    "1": "Bisco Hatori",
                                    "2": "4.54",
                                    "3": "Ouran High School Host Club, Vol. 15 (Ouran High School Host Club, #15)"
                                },
                                {
                                    "0": "5",
                                    "1": "J.K. Rowling, Mary GrandPré, Rufus Beck",
                                    "2": "4.53",
                                    "3": "Harry Potter and the Prisoner of Azkaban (Harry Potter, #3)"
                                },
                                {
                                    "0": "6",
                                    "1": "J.K. Rowling, Mary GrandPré",
                                    "2": "4.53",
                                    "3": "Harry Potter and the Goblet of Fire (Harry Potter, #4)"
                                },
                                {
                                    "0": "20613470",
                                    "1": "Sarah J. Maas",
                                    "2": "4.53",
                                    "3": "Heir of Fire (Throne of Glass, #3)"
                                },
                                {
                                    "0": "15195",
                                    "1": "Art Spiegelman",
                                    "2": "4.53",
                                    "3": "The Complete Maus (Maus, #1-2)"
                                },
                                {
                                    "0": "25104",
                                    "1": "Neil Gaiman, Michael Zulli, Jon J. Muth, Charles Vess, Mikal Gilmore",
                                    "2": "4.53",
                                    "3": "The Wake (The Sandman #10)"
                                }
                            ]
                        },
                        "text/html": [
                            "<table>",
                            "<tr><th>book_id</th><th>authors</th><th>rating</th><th>title</th></tr>",
                            "<tr><td>24812</td><td>Bill Watterson</td><td>4.82</td><td>The Complete Calvin and Hobbes</td></tr>",
                            "<tr><td>17332218</td><td>Brandon Sanderson</td><td>4.77</td><td>Words of Radiance (The Stormlight Archive, #2)</td></tr>",
                            "<tr><td>8</td><td>J.K. Rowling, Mary GrandPré</td><td>4.77</td><td>Harry Potter Boxed Set, Books 1-5 (Harry Potter, #1-5)</td></tr>",
                            "<tr><td>5031805</td><td>Anonymous, Lane T. Dennis, Wayne A. Grudem</td><td>4.76</td><td>ESV Study Bible</td></tr>",
                            "<tr><td>95602</td><td>Francine Rivers</td><td>4.76</td><td>Mark of the Lion Trilogy</td></tr>",
                            "<tr><td>24814</td><td>Bill Watterson</td><td>4.75</td><td>It's a Magical World: A Calvin and Hobbes Collection</td></tr>",
                            "<tr><td>862041</td><td>J.K. Rowling</td><td>4.74</td><td>Harry Potter Boxset (Harry Potter, #1-7)</td></tr>",
                            "<tr><td>70489</td><td>Bill Watterson</td><td>4.74</td><td>There's Treasure Everywhere: A Calvin and Hobbes Collection</td></tr>",
                            "<tr><td>10</td><td>J.K. Rowling</td><td>4.73</td><td>Harry Potter Collection (Harry Potter, #1-6)</td></tr>",
                            "<tr><td>59715</td><td>Bill Watterson</td><td>4.73</td><td>The Authoritative Calvin and Hobbes: A Calvin and Hobbes Treasury</td></tr>",
                            "<tr><td>24815</td><td>Bill Watterson</td><td>4.73</td><td>The Indispensable Calvin and Hobbes</td></tr>",
                            "<tr><td>17927395</td><td>Sarah J. Maas</td><td>4.72</td><td>A Court of Mist and Fury (A Court of Thorns and Roses, #2)</td></tr>",
                            "<tr><td>70487</td><td>Bill Watterson</td><td>4.72</td><td>Attack of the Deranged Mutant Killer Monster Snow Goons</td></tr>",
                            "<tr><td>24816</td><td>Bill Watterson</td><td>4.71</td><td>Homicidal Psycho Jungle Cat: A Calvin and Hobbes Collection</td></tr>",
                            "<tr><td>121792</td><td>Bill Watterson</td><td>4.71</td><td>The Revenge of the Baby-Sat</td></tr>",
                            "<tr><td>2350129</td><td>The Church of Jesus Christ of Latter-day Saints</td><td>4.71</td><td>Preach My Gospel: A Guide To Missionary Service</td></tr>",
                            "<tr><td>24818</td><td>Bill Watterson</td><td>4.68</td><td>The Days Are Just Packed: A Calvin and Hobbes Collection</td></tr>",
                            "<tr><td>265205</td><td>Anonymous, Ronald A. Beers, Ronald A. Beers</td><td>4.67</td><td>Life Application Study Bible: NIV</td></tr>",
                            "<tr><td>9329354</td><td>Brandon Sanderson</td><td>4.67</td><td>The Way of Kings, Part 1 (The Stormlight Archive #1.1)</td></tr>",
                            "<tr><td>99298</td><td>J.K. Rowling, Mary GrandPré</td><td>4.66</td><td>The Harry Potter Collection 1-4 (Harry Potter, #1-4)</td></tr>",
                            "<tr><td>5883777</td><td>Anonymous</td><td>4.66</td><td>The Holy Bible: English Standard Version</td></tr>",
                            "<tr><td>24494</td><td>Bill Watterson</td><td>4.66</td><td>The Calvin and Hobbes Lazy Sunday Book</td></tr>",
                            "<tr><td>43070</td><td>Bill Watterson</td><td>4.65</td><td>The Essential Calvin and Hobbes: A Calvin and Hobbes Treasury</td></tr>",
                            "<tr><td>18337259</td><td>Daniel Abraham, George R.R. Martin, Tommy Patterson</td><td>4.65</td><td>A Game of Thrones: Comic Book, Issue 1</td></tr>",
                            "<tr><td>23753</td><td>Neil Gaiman, Mike Dringenberg, Chris Bachalo, Michael Zulli, Kelly Jones, Charles Vess, Colleen Doran, Malcolm Jones III, Steve Parkhouse, Daniel Vozzo, Lee Loughridge, Steve Oliff, Todd Klein, Dave McKean, Sam Kieth</td><td>4.65</td><td>The Absolute Sandman, Volume One</td></tr>",
                            "<tr><td>7235533</td><td>Brandon Sanderson</td><td>4.64</td><td>The Way of Kings (The Stormlight Archive, #1)</td></tr>",
                            "<tr><td>24813</td><td>Bill Watterson</td><td>4.63</td><td>The Calvin and Hobbes Tenth Anniversary Book</td></tr>",
                            "<tr><td>9814682</td><td>George R.R. Martin</td><td>4.63</td><td>A Song of Ice and Fire (A Song of Ice and Fire, #1-4)</td></tr>",
                            "<tr><td>12177850</td><td>George R.R. Martin</td><td>4.63</td><td>A Song of Ice and Fire (A Song of Ice and Fire, #1-5)</td></tr>",
                            "<tr><td>481749</td><td>James E. Talmage</td><td>4.63</td><td>Jesus the Christ</td></tr>",
                            "<tr><td>46292</td><td>Hafez</td><td>4.63</td><td>The Divan</td></tr>",
                            "<tr><td>6801614</td><td>Eiichirō Oda</td><td>4.63</td><td>One Piece, Volume 38: Rocketman!! (One Piece, #38)</td></tr>",
                            "<tr><td>22299763</td><td>Leigh Bardugo</td><td>4.62</td><td>Crooked Kingdom (Six of Crows, #2)</td></tr>",
                            "<tr><td>32075671</td><td>Angie Thomas</td><td>4.62</td><td>The Hate U Give</td></tr>",
                            "<tr><td>136251</td><td>J.K. Rowling, Mary GrandPré</td><td>4.61</td><td>Harry Potter and the Deathly Hallows (Harry Potter, #7)</td></tr>",
                            "<tr><td>77727</td><td>Bill Watterson, G.B. Trudeau</td><td>4.61</td><td>Calvin and Hobbes</td></tr>",
                            "<tr><td>280111</td><td>Anonymous</td><td>4.61</td><td>Holy Bible: New International Version</td></tr>",
                            "<tr><td>2223324</td><td>John   Williams</td><td>4.61</td><td>Harry Potter and the Chamber of Secrets: Sheet Music for Flute with C.D</td></tr>",
                            "<tr><td>6339989</td><td>Richelle Mead</td><td>4.61</td><td>Vampire Academy Collection (Vampire Academy, #1-3)</td></tr>",
                            "<tr><td>596259</td><td>Gordon B. Hinckley</td><td>4.61</td><td>Standing for Something: 10 Neglected Virtues That Will Heal Our Hearts and Homes</td></tr>",
                            "<tr><td>47697</td><td>Alisa Kwitney, Neil Gaiman</td><td>4.61</td><td>The Sandman: King of Dreams</td></tr>",
                            "<tr><td>18006496</td><td>Sarah J. Maas</td><td>4.6</td><td>Queen of Shadows (Throne of Glass, #4)</td></tr>",
                            "<tr><td>95617</td><td>Francine Rivers, Richard Ferrone</td><td>4.6</td><td>A Voice in the Wind (Mark of the Lion, #1)</td></tr>",
                            "<tr><td>46601</td><td>Francine Rivers</td><td>4.6</td><td>An Echo in the Darkness (Mark of the Lion, #2)</td></tr>",
                            "<tr><td>7025086</td><td>Christopher Yost, Pasqual Ferry, Orson Scott Card</td><td>4.6</td><td>Ender's Game, Volume 2: Command School</td></tr>",
                            "<tr><td>18335634</td><td>Cassandra Clare</td><td>4.59</td><td>Clockwork Princess (The Infernal Devices, #3)</td></tr>",
                            "<tr><td>30</td><td>J.R.R. Tolkien</td><td>4.59</td><td>J.R.R. Tolkien 4-Book Boxed Set: The Hobbit and The Lord of the Rings</td></tr>",
                            "<tr><td>2299110</td><td>Sherrilyn Kenyon</td><td>4.59</td><td>Acheron (Dark-Hunter #14)</td></tr>",
                            "<tr><td>119</td><td>Gary Russell</td><td>4.59</td><td>The Lord of the Rings: The Art of The Fellowship of the Ring</td></tr>",
                            "<tr><td>71252</td><td>Neil Gaiman, Marc Hempel, Richard Case, D'Israeli, Teddy Kristiansen, Glyn Dillon, Charles Vess, Dean Ormston, Kevin Nowlan, Todd Klein, Frank McConnell</td><td>4.59</td><td>The Kindly Ones (The Sandman #9)</td></tr>",
                            "<tr><td>349254</td><td>Jude Fisher</td><td>4.59</td><td>The Lord of the Rings: The Return of the King: Visual Companion</td></tr>",
                            "<tr><td>9832370</td><td>BookRags</td><td>4.59</td><td>BookRags Summary:  A Storm of Swords</td></tr>",
                            "<tr><td>11106458</td><td>Cassandra Clare</td><td>4.59</td><td>The Mortal Instruments (The Mortal Instruments #1-4)</td></tr>",
                            "<tr><td>14367051</td><td>Cassandra Clare</td><td>4.59</td><td>City of Bones / City of Ashes / City of Glass / City of Fallen Angels / City of Lost Souls (The Mortal Instruments, #1-5)</td></tr>",
                            "<tr><td>28260587</td><td>Sarah J. Maas</td><td>4.58</td><td>Empire of Storms (Throne of Glass, #5)</td></tr>",
                            "<tr><td>3165162</td><td>Rick Riordan</td><td>4.58</td><td>Percy Jackson and the Olympians (Percy Jackson and the Olympians, #1-3)</td></tr>",
                            "<tr><td>20342617</td><td>Bryan Stevenson</td><td>4.58</td><td>Just Mercy: A Story of Justice and Redemption</td></tr>",
                            "<tr><td>17961</td><td>Jorge Luis Borges, Andrew Hurley</td><td>4.58</td><td>Collected Fictions</td></tr>",
                            "<tr><td>4808763</td><td>Isaac Asimov, Bob E. Flick, Jim Gallant</td><td>4.58</td><td>The Last Question</td></tr>",
                            "<tr><td>15767586</td><td>Sherrilyn Kenyon</td><td>4.58</td><td>Styxx (Dark-Hunter, #22)</td></tr>",
                            "<tr><td>892295</td><td>Arthur Conan Doyle, William S. Baring-Gould</td><td>4.58</td><td>The Annotated Sherlock Holmes: The Four Novels and the Fifty-Six Short Stories Complete (2 Volume Set)</td></tr>",
                            "<tr><td>1215032</td><td>Patrick Rothfuss</td><td>4.57</td><td>The Wise Man's Fear (The Kingkiller Chronicle, #2)</td></tr>",
                            "<tr><td>6485421</td><td>Cassandra Clare</td><td>4.57</td><td>The Mortal Instruments Boxed Set: City of Bones; City of Ashes; City of Glass (The Mortal Instruments, #1-3)</td></tr>",
                            "<tr><td>17131869</td><td>Brian K. Vaughan, Fiona Staples</td><td>4.57</td><td>Saga, Vol. 2 (Saga, #2)</td></tr>",
                            "<tr><td>8718952</td><td>Richelle Mead</td><td>4.57</td><td>Vampire Academy Box Set (Vampire Academy, #1-4)</td></tr>",
                            "<tr><td>4634266</td><td>Masashi Kishimoto</td><td>4.57</td><td>NARUTO -ナルト- 巻ノ四十三</td></tr>",
                            "<tr><td>6443349</td><td>Rick Riordan, Tk</td><td>4.57</td><td>Percy Jackson and the Olympians Boxed Set (Percy Jackson and the Olympians, #1-5)</td></tr>",
                            "<tr><td>545425</td><td>Safiy al-Rahman al-Mubarakfuri</td><td>4.57</td><td>الرحيق المختوم</td></tr>",
                            "<tr><td>17333174</td><td>Ilona Andrews</td><td>4.57</td><td>Magic Binds (Kate Daniels, #9)</td></tr>",
                            "<tr><td>147915</td><td>George R.R. Martin</td><td>4.56</td><td>A Storm of Swords: Blood and Gold (A Song of Ice and Fire, #3: Part 2 of 2)</td></tr>",
                            "<tr><td>19358975</td><td>Brian K. Vaughan, Fiona Staples</td><td>4.56</td><td>Saga, Vol. 3 (Saga, #3)</td></tr>",
                            "<tr><td>10785687</td><td>Bob McCabe</td><td>4.56</td><td>Harry Potter Page to Screen: The Complete Filmmaking Journey</td></tr>",
                            "<tr><td>17880714</td><td>K. Bromberg</td><td>4.56</td><td>Crashed (Driven, #3)</td></tr>",
                            "<tr><td>1317181</td><td>J.K. Rowling</td><td>4.56</td><td>Harry Potter and the Order of the Phoenix (Harry Potter, #5, Part 1)</td></tr>",
                            "<tr><td>15743078</td><td>Veronica Roth</td><td>4.56</td><td>The Divergent Series 2-Book Collection (Divergent, #1-2)</td></tr>",
                            "<tr><td>29236299</td><td>Amie Kaufman, Jay Kristoff, Marie Lu</td><td>4.56</td><td>Gemina (The Illuminae Files, #2)</td></tr>",
                            "<tr><td>186074</td><td>Patrick Rothfuss</td><td>4.55</td><td>The Name of the Wind (The Kingkiller Chronicle, #1)</td></tr>",
                            "<tr><td>19486421</td><td>Jim Butcher</td><td>4.55</td><td>Skin Game (The Dresden Files, #15)</td></tr>",
                            "<tr><td>6604209</td><td>Brandon Sanderson</td><td>4.55</td><td>Mistborn Trilogy Boxed Set (Mistborn, #1-3)</td></tr>",
                            "<tr><td>25105</td><td>Neil Gaiman, Jill Thompson, Vince Locke, Peter Straub</td><td>4.55</td><td>Brief Lives (The Sandman #7)</td></tr>",
                            "<tr><td>8346300</td><td>Andrew Williamson, Andrew Williamson</td><td>4.55</td><td>Harry Potter: A Pop-Up Book: Based on the Film Phenomenon</td></tr>",
                            "<tr><td>14905</td><td>Jane Austen</td><td>4.55</td><td>The Complete Novels</td></tr>",
                            "<tr><td>13184992</td><td>Kristen Ashley</td><td>4.55</td><td>Rock Chick Regret (Rock Chick, #7)</td></tr>",
                            "<tr><td>71823</td><td>Stephen King</td><td>4.55</td><td>The Green Mile, Part 6: Coffey on the Mile</td></tr>",
                            "<tr><td>1</td><td>J.K. Rowling, Mary GrandPré</td><td>4.54</td><td>Harry Potter and the Half-Blood Prince (Harry Potter, #6)</td></tr>",
                            "<tr><td>62291</td><td>George R.R. Martin</td><td>4.54</td><td>A Storm of Swords (A Song of Ice and Fire, #3)</td></tr>",
                            "<tr><td>21853621</td><td>Kristin Hannah</td><td>4.54</td><td>The Nightingale</td></tr>",
                            "<tr><td>12127810</td><td>Rick Riordan</td><td>4.54</td><td>The House of Hades (The Heroes of Olympus, #4)</td></tr>",
                            "<tr><td>6585201</td><td>Jim Butcher</td><td>4.54</td><td>Changes (The Dresden Files, #12)</td></tr>",
                            "<tr><td>381421</td><td>Sarah  Young</td><td>4.54</td><td>Jesus Calling: Enjoying Peace in His Presence</td></tr>",
                            "<tr><td>25101</td><td>Neil Gaiman, Matt Wagner, George Pratt, Dick Giordano, Kelley Jones, P. Craig Russell, Mike Dringenberg, Malcolm Jones III, Todd Klein, Harlan Ellison</td><td>4.54</td><td>Season of Mists (The Sandman #4)</td></tr>",
                            "<tr><td>89959</td><td>Founding Fathers</td><td>4.54</td><td>The Constitution of the United States of America</td></tr>",
                            "<tr><td>23766634</td><td>Sarah J. Maas</td><td>4.54</td><td>A Court of Wings and Ruin (A Court of Thorns and Roses, #3)</td></tr>",
                            "<tr><td>20706320</td><td>Chris Colfer, Brandon Dorman</td><td>4.54</td><td>A Grimm Warning (The Land of Stories, #3)</td></tr>",
                            "<tr><td>8163161</td><td>Bisco Hatori</td><td>4.54</td><td>Ouran High School Host Club, Vol. 15 (Ouran High School Host Club, #15)</td></tr>",
                            "<tr><td>5</td><td>J.K. Rowling, Mary GrandPré, Rufus Beck</td><td>4.53</td><td>Harry Potter and the Prisoner of Azkaban (Harry Potter, #3)</td></tr>",
                            "<tr><td>6</td><td>J.K. Rowling, Mary GrandPré</td><td>4.53</td><td>Harry Potter and the Goblet of Fire (Harry Potter, #4)</td></tr>",
                            "<tr><td>20613470</td><td>Sarah J. Maas</td><td>4.53</td><td>Heir of Fire (Throne of Glass, #3)</td></tr>",
                            "<tr><td>15195</td><td>Art Spiegelman</td><td>4.53</td><td>The Complete Maus (Maus, #1-2)</td></tr>",
                            "<tr><td>25104</td><td>Neil Gaiman, Michael Zulli, Jon J. Muth, Charles Vess, Mikal Gilmore</td><td>4.53</td><td>The Wake (The Sandman #10)</td></tr>",
                            "</table>"
                        ]
                    }
                }
            ],
            "execution_count": 22
        },
        {
            "cell_type": "markdown",
            "source": [
                "Question 2: Write a query to find the least popular book."
            ],
            "metadata": {
                "azdata_cell_guid": "777429b8-8622-489d-9c49-e2acecd7f17e"
            },
            "attachments": {}
        },
        {
            "cell_type": "code",
            "source": [
                "-- return least popular book\n",
                "SELECT\n",
                "    top 1 *\n",
                "FROM\n",
                "    BooksDB.dbo.books\n",
                "ORDER BY average_rating ASC"
            ],
            "metadata": {
                "azdata_cell_guid": "c78a1779-db74-470f-a60a-7c72a43d774b",
                "language": "sql"
            },
            "outputs": [
                {
                    "output_type": "display_data",
                    "data": {
                        "text/html": "(1 row affected)"
                    },
                    "metadata": {}
                },
                {
                    "output_type": "display_data",
                    "data": {
                        "text/html": "Total execution time: 00:00:00.102"
                    },
                    "metadata": {}
                },
                {
                    "output_type": "execute_result",
                    "metadata": {},
                    "execution_count": 19,
                    "data": {
                        "application/vnd.dataresource+json": {
                            "schema": {
                                "fields": [
                                    {
                                        "name": "id"
                                    },
                                    {
                                        "name": "book_id"
                                    },
                                    {
                                        "name": "best_book_id"
                                    },
                                    {
                                        "name": "work_id"
                                    },
                                    {
                                        "name": "books_count"
                                    },
                                    {
                                        "name": "isbn"
                                    },
                                    {
                                        "name": "isbn13"
                                    },
                                    {
                                        "name": "authors"
                                    },
                                    {
                                        "name": "original_publication_year"
                                    },
                                    {
                                        "name": "original_title"
                                    },
                                    {
                                        "name": "title"
                                    },
                                    {
                                        "name": "language_code"
                                    },
                                    {
                                        "name": "average_rating"
                                    },
                                    {
                                        "name": "ratings_count"
                                    },
                                    {
                                        "name": "work_ratings_count"
                                    },
                                    {
                                        "name": "work_text_reviews_count"
                                    },
                                    {
                                        "name": "ratings_1"
                                    },
                                    {
                                        "name": "ratings_2"
                                    },
                                    {
                                        "name": "ratings_3"
                                    },
                                    {
                                        "name": "ratings_4"
                                    },
                                    {
                                        "name": "ratings_5"
                                    },
                                    {
                                        "name": "image_url"
                                    },
                                    {
                                        "name": "small_image_url"
                                    }
                                ]
                            },
                            "data": [
                                {
                                    "0": "1793",
                                    "1": "105578",
                                    "2": "105578",
                                    "3": "101770",
                                    "4": "25",
                                    "5": "345498321",
                                    "6": "9780345498330",
                                    "7": "Chetan Bhagat",
                                    "8": "2005",
                                    "9": "One Night @ The Call Center",
                                    "10": "One Night at the Call Center",
                                    "11": "eng",
                                    "12": "2.47",
                                    "13": "40718",
                                    "14": "44833",
                                    "15": "1244",
                                    "16": "10559",
                                    "17": "14125",
                                    "18": "11872",
                                    "19": "5177",
                                    "20": "3100",
                                    "21": "https://images.gr-assets.com/books/1320500924m/105578.jpg",
                                    "22": "https://images.gr-assets.com/books/1320500924s/105578.jpg"
                                }
                            ]
                        },
                        "text/html": [
                            "<table>",
                            "<tr><th>id</th><th>book_id</th><th>best_book_id</th><th>work_id</th><th>books_count</th><th>isbn</th><th>isbn13</th><th>authors</th><th>original_publication_year</th><th>original_title</th><th>title</th><th>language_code</th><th>average_rating</th><th>ratings_count</th><th>work_ratings_count</th><th>work_text_reviews_count</th><th>ratings_1</th><th>ratings_2</th><th>ratings_3</th><th>ratings_4</th><th>ratings_5</th><th>image_url</th><th>small_image_url</th></tr>",
                            "<tr><td>1793</td><td>105578</td><td>105578</td><td>101770</td><td>25</td><td>345498321</td><td>9780345498330</td><td>Chetan Bhagat</td><td>2005</td><td>One Night @ The Call Center</td><td>One Night at the Call Center</td><td>eng</td><td>2.47</td><td>40718</td><td>44833</td><td>1244</td><td>10559</td><td>14125</td><td>11872</td><td>5177</td><td>3100</td><td>https://images.gr-assets.com/books/1320500924m/105578.jpg</td><td>https://images.gr-assets.com/books/1320500924s/105578.jpg</td></tr>",
                            "</table>"
                        ]
                    }
                }
            ],
            "execution_count": 19
        },
        {
            "cell_type": "markdown",
            "source": [
                "Question 3: Which tag is the most popular?"
            ],
            "metadata": {
                "azdata_cell_guid": "a370909d-5d64-49e2-8fec-5220730c8ca7"
            },
            "attachments": {}
        },
        {
            "cell_type": "code",
            "source": [
                "-- return most popular tag\n",
                "SELECT\n",
                "    top 10 * \n",
                "FROM\n",
                "    BooksDB.dbo.book_tags\n",
                "ORDER BY COUNT DESC"
            ],
            "metadata": {
                "azdata_cell_guid": "9e0451dc-c4d3-4775-9eb1-904854f459ff",
                "tags": [],
                "language": "sql"
            },
            "outputs": [
                {
                    "output_type": "display_data",
                    "data": {
                        "text/html": "(10 rows affected)"
                    },
                    "metadata": {}
                },
                {
                    "output_type": "display_data",
                    "data": {
                        "text/html": "Total execution time: 00:00:00.463"
                    },
                    "metadata": {}
                },
                {
                    "output_type": "execute_result",
                    "metadata": {},
                    "execution_count": 28,
                    "data": {
                        "application/vnd.dataresource+json": {
                            "schema": {
                                "fields": [
                                    {
                                        "name": "goodreads_book_id"
                                    },
                                    {
                                        "name": "tag_id"
                                    },
                                    {
                                        "name": "count"
                                    }
                                ]
                            },
                            "data": [
                                {
                                    "0": "865",
                                    "1": "30574",
                                    "2": "596234"
                                },
                                {
                                    "0": "2429135",
                                    "1": "30574",
                                    "2": "586235"
                                },
                                {
                                    "0": "18143977",
                                    "1": "30574",
                                    "2": "505884"
                                },
                                {
                                    "0": "3",
                                    "1": "30574",
                                    "2": "496107"
                                },
                                {
                                    "0": "24280",
                                    "1": "30574",
                                    "2": "488469"
                                },
                                {
                                    "0": "11235712",
                                    "1": "30574",
                                    "2": "474954"
                                },
                                {
                                    "0": "168668",
                                    "1": "30574",
                                    "2": "465640"
                                },
                                {
                                    "0": "18405",
                                    "1": "30574",
                                    "2": "454565"
                                },
                                {
                                    "0": "4981",
                                    "1": "30574",
                                    "2": "443942"
                                },
                                {
                                    "0": "930",
                                    "1": "30574",
                                    "2": "436097"
                                }
                            ]
                        },
                        "text/html": [
                            "<table>",
                            "<tr><th>goodreads_book_id</th><th>tag_id</th><th>count</th></tr>",
                            "<tr><td>865</td><td>30574</td><td>596234</td></tr>",
                            "<tr><td>2429135</td><td>30574</td><td>586235</td></tr>",
                            "<tr><td>18143977</td><td>30574</td><td>505884</td></tr>",
                            "<tr><td>3</td><td>30574</td><td>496107</td></tr>",
                            "<tr><td>24280</td><td>30574</td><td>488469</td></tr>",
                            "<tr><td>11235712</td><td>30574</td><td>474954</td></tr>",
                            "<tr><td>168668</td><td>30574</td><td>465640</td></tr>",
                            "<tr><td>18405</td><td>30574</td><td>454565</td></tr>",
                            "<tr><td>4981</td><td>30574</td><td>443942</td></tr>",
                            "<tr><td>930</td><td>30574</td><td>436097</td></tr>",
                            "</table>"
                        ]
                    }
                }
            ],
            "execution_count": 28
        },
        {
            "cell_type": "markdown",
            "source": [
                "Question 4: What is the name of the most popular tag?"
            ],
            "metadata": {
                "azdata_cell_guid": "3cdfa7e6-c5a6-49fb-aa27-afeece881627"
            },
            "attachments": {}
        },
        {
            "cell_type": "code",
            "source": [
                "-- return name of most popular tag\n",
                "SELECT\n",
                "    top 10 *\n",
                "FROM\n",
                "    BooksDB.dbo.tags\n",
                "WHERE tag_id = 30574\n",
                ""
            ],
            "metadata": {
                "azdata_cell_guid": "3cd3a3ec-4ce2-49b6-b714-44179eed00e1",
                "language": "sql",
                "tags": []
            },
            "outputs": [
                {
                    "output_type": "display_data",
                    "data": {
                        "text/html": "(1 row affected)"
                    },
                    "metadata": {}
                },
                {
                    "output_type": "display_data",
                    "data": {
                        "text/html": "Total execution time: 00:00:00.059"
                    },
                    "metadata": {}
                },
                {
                    "output_type": "execute_result",
                    "metadata": {},
                    "execution_count": 32,
                    "data": {
                        "application/vnd.dataresource+json": {
                            "schema": {
                                "fields": [
                                    {
                                        "name": "tag_id"
                                    },
                                    {
                                        "name": "tag_name"
                                    }
                                ]
                            },
                            "data": [
                                {
                                    "0": "30574",
                                    "1": "to-read"
                                }
                            ]
                        },
                        "text/html": [
                            "<table>",
                            "<tr><th>tag_id</th><th>tag_name</th></tr>",
                            "<tr><td>30574</td><td>to-read</td></tr>",
                            "</table>"
                        ]
                    }
                }
            ],
            "execution_count": 32
        },
        {
            "cell_type": "markdown",
            "source": [
                "Question 5: How many books where released in the first decade of 2000?"
            ],
            "metadata": {
                "azdata_cell_guid": "b3962545-c0c2-47ca-a3c4-299c2c0a4b0c"
            },
            "attachments": {}
        },
        {
            "cell_type": "code",
            "source": [
                "-- return number of books published in the first decade of 2000\n",
                "-- SELECT \n",
                "--     TOP 10 *\n",
                "-- FROM \n",
                "--     BooksDB.dbo.books\n",
                "-- WHERE original_publication_year > 2000 "
            ],
            "metadata": {
                "azdata_cell_guid": "8dcd65e9-1b3e-4cf8-b726-26729a1225f2",
                "language": "sql"
            },
            "outputs": [
                {
                    "output_type": "error",
                    "evalue": "Msg 102, Level 15, State 1, Line 6\r\nIncorrect syntax near '<'.",
                    "ename": "",
                    "traceback": []
                },
                {
                    "output_type": "display_data",
                    "data": {
                        "text/html": "Total execution time: 00:00:00.045"
                    },
                    "metadata": {}
                }
            ],
            "execution_count": 40
        },
        {
            "cell_type": "code",
            "source": [
                "SELECT COUNT(*) as 'books_from_2000s'\r\n",
                "FROM BooksDB.dbo.books\r\n",
                "WHERE original_publication_year BETWEEN 2000 and 2010 \r\n",
                ""
            ],
            "metadata": {
                "language": "sql",
                "azdata_cell_guid": "b24ee365-5a81-40c6-8d6c-ac7ba428f9f1"
            },
            "outputs": [
                {
                    "output_type": "display_data",
                    "data": {
                        "text/html": "(1 row affected)"
                    },
                    "metadata": {}
                },
                {
                    "output_type": "display_data",
                    "data": {
                        "text/html": "Total execution time: 00:00:00.068"
                    },
                    "metadata": {}
                },
                {
                    "output_type": "execute_result",
                    "metadata": {},
                    "execution_count": 41,
                    "data": {
                        "application/vnd.dataresource+json": {
                            "schema": {
                                "fields": [
                                    {
                                        "name": "books_from_2000s"
                                    }
                                ]
                            },
                            "data": [
                                {
                                    "0": "3594"
                                }
                            ]
                        },
                        "text/html": [
                            "<table>",
                            "<tr><th>books_from_2000s</th></tr>",
                            "<tr><td>3594</td></tr>",
                            "</table>"
                        ]
                    }
                }
            ],
            "execution_count": 41
        },
        {
            "cell_type": "markdown",
            "source": [
                "Question 6: How many book titles contain the word Happy?"
            ],
            "metadata": {
                "azdata_cell_guid": "5080d6de-2775-4055-97ae-f93fce97a426"
            },
            "attachments": {}
        },
        {
            "cell_type": "code",
            "source": [
                "-- return number of books that contain the word Happy\n",
                "SELECT COUNT(*) as \"happy books\"\n",
                "FROM BooksDB.dbo.books\n",
                "WHERE title LIKE '%appy%'"
            ],
            "metadata": {
                "azdata_cell_guid": "f55f18b9-91b1-4761-ad8c-4758434d7827",
                "language": "sql"
            },
            "outputs": [
                {
                    "output_type": "display_data",
                    "data": {
                        "text/html": "(1 row affected)"
                    },
                    "metadata": {}
                },
                {
                    "output_type": "display_data",
                    "data": {
                        "text/html": "Total execution time: 00:00:00.276"
                    },
                    "metadata": {}
                },
                {
                    "output_type": "execute_result",
                    "metadata": {},
                    "execution_count": 44,
                    "data": {
                        "application/vnd.dataresource+json": {
                            "schema": {
                                "fields": [
                                    {
                                        "name": "happy books"
                                    }
                                ]
                            },
                            "data": [
                                {
                                    "0": "14"
                                }
                            ]
                        },
                        "text/html": [
                            "<table>",
                            "<tr><th>happy books</th></tr>",
                            "<tr><td>14</td></tr>",
                            "</table>"
                        ]
                    }
                }
            ],
            "execution_count": 44
        },
        {
            "cell_type": "markdown",
            "source": [
                "Question 7: List the books from the top 3 authors from question 1.  If there is more than one author just use the first one. Sort the titles <span style=\"background-color: rgba(127, 127, 127, 0.1); font-family: -apple-system, BlinkMacSystemFont, sans-serif;\">alphabetically by author and then by average_rating, best rated to lowest. Does order matter in sorting?</span>"
            ],
            "metadata": {
                "azdata_cell_guid": "d38270ef-da5a-42b4-802a-506acb8b9e4b"
            },
            "attachments": {}
        },
        {
            "cell_type": "code",
            "source": [
                "-- return all books from the top 3 authors, sort by author and rating\n",
                "SELECT \n",
                "    title, authors, average_rating\n",
                "FROM BooksDB.dbo.books\n",
                "WHERE authors in ('suzanne collins', 'Brandon Sanderson', 'J.K. Rowling')\n",
                "ORDER BY authors, average_rating\n",
                ""
            ],
            "metadata": {
                "azdata_cell_guid": "47466fac-5d8d-491d-bd3c-2f8496f55e6b",
                "language": "sql"
            },
            "outputs": [
                {
                    "output_type": "display_data",
                    "data": {
                        "text/html": "(38 rows affected)"
                    },
                    "metadata": {}
                },
                {
                    "output_type": "display_data",
                    "data": {
                        "text/html": "Total execution time: 00:00:00.070"
                    },
                    "metadata": {}
                },
                {
                    "output_type": "execute_result",
                    "metadata": {},
                    "execution_count": 47,
                    "data": {
                        "application/vnd.dataresource+json": {
                            "schema": {
                                "fields": [
                                    {
                                        "name": "title"
                                    },
                                    {
                                        "name": "authors"
                                    },
                                    {
                                        "name": "average_rating"
                                    }
                                ]
                            },
                            "data": [
                                {
                                    "0": "Mitosis (The Reckoners, #1.5)",
                                    "1": "Brandon Sanderson",
                                    "2": "3.87"
                                },
                                {
                                    "0": "Alcatraz Versus the Evil Librarians (Alcatraz, #1)",
                                    "1": "Brandon Sanderson",
                                    "2": "3.87"
                                },
                                {
                                    "0": "Legion (Legion, #1)",
                                    "1": "Brandon Sanderson",
                                    "2": "4.13"
                                },
                                {
                                    "0": "Steelheart (The Reckoners, #1)",
                                    "1": "Brandon Sanderson",
                                    "2": "4.16"
                                },
                                {
                                    "0": "Elantris (Elantris, #1)",
                                    "1": "Brandon Sanderson",
                                    "2": "4.17"
                                },
                                {
                                    "0": "The Alloy of Law (Mistborn, #4)",
                                    "1": "Brandon Sanderson",
                                    "2": "4.2"
                                },
                                {
                                    "0": "Calamity (The Reckoners, #3)",
                                    "1": "Brandon Sanderson",
                                    "2": "4.2"
                                },
                                {
                                    "0": "Warbreaker (Warbreaker, #1)",
                                    "1": "Brandon Sanderson",
                                    "2": "4.22"
                                },
                                {
                                    "0": "The Rithmatist (The Rithmatist, #1)",
                                    "1": "Brandon Sanderson",
                                    "2": "4.25"
                                },
                                {
                                    "0": "Firefight (The Reckoners, #2)",
                                    "1": "Brandon Sanderson",
                                    "2": "4.29"
                                },
                                {
                                    "0": "Shadows of Self (Mistborn, #5)",
                                    "1": "Brandon Sanderson",
                                    "2": "4.3"
                                },
                                {
                                    "0": "The Emperor's Soul",
                                    "1": "Brandon Sanderson",
                                    "2": "4.33"
                                },
                                {
                                    "0": "The Well of Ascension (Mistborn, #2)",
                                    "1": "Brandon Sanderson",
                                    "2": "4.35"
                                },
                                {
                                    "0": "Secret History (Mistborn, #3.5)",
                                    "1": "Brandon Sanderson",
                                    "2": "4.38"
                                },
                                {
                                    "0": "The Final Empire (Mistborn, #1)",
                                    "1": "Brandon Sanderson",
                                    "2": "4.43"
                                },
                                {
                                    "0": "The Bands of Mourning (Mistborn, #6)",
                                    "1": "Brandon Sanderson",
                                    "2": "4.45"
                                },
                                {
                                    "0": "The Hero of Ages (Mistborn, #3)",
                                    "1": "Brandon Sanderson",
                                    "2": "4.46"
                                },
                                {
                                    "0": "Mistborn Trilogy Boxed Set (Mistborn, #1-3)",
                                    "1": "Brandon Sanderson",
                                    "2": "4.55"
                                },
                                {
                                    "0": "The Way of Kings (The Stormlight Archive, #1)",
                                    "1": "Brandon Sanderson",
                                    "2": "4.64"
                                },
                                {
                                    "0": "The Way of Kings, Part 1 (The Stormlight Archive #1.1)",
                                    "1": "Brandon Sanderson",
                                    "2": "4.67"
                                },
                                {
                                    "0": "Words of Radiance (The Stormlight Archive, #2)",
                                    "1": "Brandon Sanderson",
                                    "2": "4.77"
                                },
                                {
                                    "0": "The Casual Vacancy",
                                    "1": "J.K. Rowling",
                                    "2": "3.28"
                                },
                                {
                                    "0": "The Tales of Beedle the Bard",
                                    "1": "J.K. Rowling",
                                    "2": "4.06"
                                },
                                {
                                    "0": "Hogwarts: An Incomplete and Unreliable Guide (Pottermore Presents, #3)",
                                    "1": "J.K. Rowling",
                                    "2": "4.21"
                                },
                                {
                                    "0": "Harry Potter Schoolbooks Box Set: Two Classic Books from the Library of Hogwarts School of Witchcraft and Wizardry",
                                    "1": "J.K. Rowling",
                                    "2": "4.4"
                                },
                                {
                                    "0": "Fantastic Beasts and Where to Find Them: The Original Screenplay",
                                    "1": "J.K. Rowling",
                                    "2": "4.41"
                                },
                                {
                                    "0": "Harry Potter and the Order of the Phoenix (Harry Potter, #5, Part 1)",
                                    "1": "J.K. Rowling",
                                    "2": "4.56"
                                },
                                {
                                    "0": "Harry Potter Collection (Harry Potter, #1-6)",
                                    "1": "J.K. Rowling",
                                    "2": "4.73"
                                },
                                {
                                    "0": "Harry Potter Boxset (Harry Potter, #1-7)",
                                    "1": "J.K. Rowling",
                                    "2": "4.74"
                                },
                                {
                                    "0": "Gregor the Overlander (Underland Chronicles, #1)",
                                    "1": "Suzanne Collins",
                                    "2": "3.99"
                                },
                                {
                                    "0": "Mockingjay (The Hunger Games, #3)",
                                    "1": "Suzanne Collins",
                                    "2": "4.03"
                                },
                                {
                                    "0": "Gregor and the Prophecy of Bane (Underland Chronicles, #2)",
                                    "1": "Suzanne Collins",
                                    "2": "4.17"
                                },
                                {
                                    "0": "Gregor and the Curse of the Warmbloods (Underland Chronicles, #3)",
                                    "1": "Suzanne Collins",
                                    "2": "4.2"
                                },
                                {
                                    "0": "Gregor and the Marks of Secret (Underland Chronicles, #4)",
                                    "1": "Suzanne Collins",
                                    "2": "4.21"
                                },
                                {
                                    "0": "Gregor and the Code of Claw (Underland Chronicles, #5)",
                                    "1": "Suzanne Collins",
                                    "2": "4.25"
                                },
                                {
                                    "0": "Catching Fire (The Hunger Games, #2)",
                                    "1": "Suzanne Collins",
                                    "2": "4.3"
                                },
                                {
                                    "0": "The Hunger Games (The Hunger Games, #1)",
                                    "1": "Suzanne Collins",
                                    "2": "4.34"
                                },
                                {
                                    "0": "The Hunger Games Trilogy Boxset (The Hunger Games, #1-3)",
                                    "1": "Suzanne Collins",
                                    "2": "4.49"
                                }
                            ]
                        },
                        "text/html": [
                            "<table>",
                            "<tr><th>title</th><th>authors</th><th>average_rating</th></tr>",
                            "<tr><td>Mitosis (The Reckoners, #1.5)</td><td>Brandon Sanderson</td><td>3.87</td></tr>",
                            "<tr><td>Alcatraz Versus the Evil Librarians (Alcatraz, #1)</td><td>Brandon Sanderson</td><td>3.87</td></tr>",
                            "<tr><td>Legion (Legion, #1)</td><td>Brandon Sanderson</td><td>4.13</td></tr>",
                            "<tr><td>Steelheart (The Reckoners, #1)</td><td>Brandon Sanderson</td><td>4.16</td></tr>",
                            "<tr><td>Elantris (Elantris, #1)</td><td>Brandon Sanderson</td><td>4.17</td></tr>",
                            "<tr><td>The Alloy of Law (Mistborn, #4)</td><td>Brandon Sanderson</td><td>4.2</td></tr>",
                            "<tr><td>Calamity (The Reckoners, #3)</td><td>Brandon Sanderson</td><td>4.2</td></tr>",
                            "<tr><td>Warbreaker (Warbreaker, #1)</td><td>Brandon Sanderson</td><td>4.22</td></tr>",
                            "<tr><td>The Rithmatist (The Rithmatist, #1)</td><td>Brandon Sanderson</td><td>4.25</td></tr>",
                            "<tr><td>Firefight (The Reckoners, #2)</td><td>Brandon Sanderson</td><td>4.29</td></tr>",
                            "<tr><td>Shadows of Self (Mistborn, #5)</td><td>Brandon Sanderson</td><td>4.3</td></tr>",
                            "<tr><td>The Emperor's Soul</td><td>Brandon Sanderson</td><td>4.33</td></tr>",
                            "<tr><td>The Well of Ascension (Mistborn, #2)</td><td>Brandon Sanderson</td><td>4.35</td></tr>",
                            "<tr><td>Secret History (Mistborn, #3.5)</td><td>Brandon Sanderson</td><td>4.38</td></tr>",
                            "<tr><td>The Final Empire (Mistborn, #1)</td><td>Brandon Sanderson</td><td>4.43</td></tr>",
                            "<tr><td>The Bands of Mourning (Mistborn, #6)</td><td>Brandon Sanderson</td><td>4.45</td></tr>",
                            "<tr><td>The Hero of Ages (Mistborn, #3)</td><td>Brandon Sanderson</td><td>4.46</td></tr>",
                            "<tr><td>Mistborn Trilogy Boxed Set (Mistborn, #1-3)</td><td>Brandon Sanderson</td><td>4.55</td></tr>",
                            "<tr><td>The Way of Kings (The Stormlight Archive, #1)</td><td>Brandon Sanderson</td><td>4.64</td></tr>",
                            "<tr><td>The Way of Kings, Part 1 (The Stormlight Archive #1.1)</td><td>Brandon Sanderson</td><td>4.67</td></tr>",
                            "<tr><td>Words of Radiance (The Stormlight Archive, #2)</td><td>Brandon Sanderson</td><td>4.77</td></tr>",
                            "<tr><td>The Casual Vacancy</td><td>J.K. Rowling</td><td>3.28</td></tr>",
                            "<tr><td>The Tales of Beedle the Bard</td><td>J.K. Rowling</td><td>4.06</td></tr>",
                            "<tr><td>Hogwarts: An Incomplete and Unreliable Guide (Pottermore Presents, #3)</td><td>J.K. Rowling</td><td>4.21</td></tr>",
                            "<tr><td>Harry Potter Schoolbooks Box Set: Two Classic Books from the Library of Hogwarts School of Witchcraft and Wizardry</td><td>J.K. Rowling</td><td>4.4</td></tr>",
                            "<tr><td>Fantastic Beasts and Where to Find Them: The Original Screenplay</td><td>J.K. Rowling</td><td>4.41</td></tr>",
                            "<tr><td>Harry Potter and the Order of the Phoenix (Harry Potter, #5, Part 1)</td><td>J.K. Rowling</td><td>4.56</td></tr>",
                            "<tr><td>Harry Potter Collection (Harry Potter, #1-6)</td><td>J.K. Rowling</td><td>4.73</td></tr>",
                            "<tr><td>Harry Potter Boxset (Harry Potter, #1-7)</td><td>J.K. Rowling</td><td>4.74</td></tr>",
                            "<tr><td>Gregor the Overlander (Underland Chronicles, #1)</td><td>Suzanne Collins</td><td>3.99</td></tr>",
                            "<tr><td>Mockingjay (The Hunger Games, #3)</td><td>Suzanne Collins</td><td>4.03</td></tr>",
                            "<tr><td>Gregor and the Prophecy of Bane (Underland Chronicles, #2)</td><td>Suzanne Collins</td><td>4.17</td></tr>",
                            "<tr><td>Gregor and the Curse of the Warmbloods (Underland Chronicles, #3)</td><td>Suzanne Collins</td><td>4.2</td></tr>",
                            "<tr><td>Gregor and the Marks of Secret (Underland Chronicles, #4)</td><td>Suzanne Collins</td><td>4.21</td></tr>",
                            "<tr><td>Gregor and the Code of Claw (Underland Chronicles, #5)</td><td>Suzanne Collins</td><td>4.25</td></tr>",
                            "<tr><td>Catching Fire (The Hunger Games, #2)</td><td>Suzanne Collins</td><td>4.3</td></tr>",
                            "<tr><td>The Hunger Games (The Hunger Games, #1)</td><td>Suzanne Collins</td><td>4.34</td></tr>",
                            "<tr><td>The Hunger Games Trilogy Boxset (The Hunger Games, #1-3)</td><td>Suzanne Collins</td><td>4.49</td></tr>",
                            "</table>"
                        ]
                    }
                }
            ],
            "execution_count": 47
        },
        {
            "cell_type": "markdown",
            "source": [
                "Question 8: Take a close look at J.K. Rowling.  Is her top rated book on this list from question 1?  Why might this be? How could we account for this?\n",
                "\n",
                "> Click here to add your answer."
            ],
            "metadata": {
                "azdata_cell_guid": "db907c70-0bbd-4121-ac91-ae814f703243"
            },
            "attachments": {}
        },
        {
            "cell_type": "markdown",
            "source": [
                "Try updating your above query to include all of J.K. Rowling's books.\n",
                "\n",
                "Are there any other issues?\n",
                "\n",
                "> Click here to add your answer."
            ],
            "metadata": {
                "azdata_cell_guid": "35ee4a48-8e84-4eb5-95ca-f5cdddc8d682"
            },
            "attachments": {}
        },
        {
            "cell_type": "code",
            "source": [
                "-- Try updating your above query to include all of J.K. Rowling's books\n",
                ""
            ],
            "metadata": {
                "azdata_cell_guid": "ce489012-fce9-435c-b570-7734223a0678",
                "tags": [],
                "language": "sql"
            },
            "outputs": [],
            "execution_count": null
        },
        {
            "cell_type": "markdown",
            "source": [
                "Question 9: Write a query that returns the number of Authors whose first name is between rock and roll."
            ],
            "metadata": {
                "azdata_cell_guid": "75bf5054-4918-4e9e-8e03-24a38ffab9cc"
            },
            "attachments": {}
        },
        {
            "cell_type": "code",
            "source": [
                "-- return number of authors whose first name is between rock and roll\n",
                "\n"
            ],
            "metadata": {
                "azdata_cell_guid": "491b2492-95d4-4078-b319-386b0c5592ec",
                "language": "sql"
            },
            "outputs": [],
            "execution_count": null
        },
        {
            "cell_type": "markdown",
            "source": [
                "## Part 2. Write your own question and write a query to answer it.\n",
                "\n",
                "Your Question:  Click here to add"
            ],
            "metadata": {
                "azdata_cell_guid": "1ba1363a-4f02-4962-a95a-93b80c5926b1"
            },
            "attachments": {}
        },
        {
            "cell_type": "code",
            "source": [
                "-- Add your querry here\n"
            ],
            "metadata": {
                "azdata_cell_guid": "607f1a61-b306-42bf-a20c-60ec3a6ba86a",
                "language": "sql"
            },
            "outputs": [],
            "execution_count": null
        },
        {
            "cell_type": "markdown",
            "source": [
                "Your Question: Click here to add"
            ],
            "metadata": {
                "azdata_cell_guid": "9386ad04-a016-44d4-8c5c-d25a102d47b4"
            }
        },
        {
            "cell_type": "code",
            "source": [
                "-- Add your querry here\n"
            ],
            "metadata": {
                "azdata_cell_guid": "15f249cf-aad7-468d-92e1-429b2a09f285",
                "language": "sql"
            },
            "outputs": [],
            "execution_count": null
        },
        {
            "cell_type": "markdown",
            "source": [
                "**Some Question Examples:**\n",
                "\n",
                "Write a query that returns the longest title?\n",
                "\n",
                "Which Author has written the most books?  \n",
                "\n",
                "Top  ten books written the year I was born?"
            ],
            "metadata": {
                "azdata_cell_guid": "7160362b-7127-4123-bd1d-95a94ae38a07"
            }
        }
    ]
}